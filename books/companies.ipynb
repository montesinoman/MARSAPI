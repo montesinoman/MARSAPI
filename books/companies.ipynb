{
 "cells": [
  {
   "cell_type": "code",
   "execution_count": 1,
   "id": "e097362a-ca50-4462-8b2f-f430db98fa2d",
   "metadata": {},
   "outputs": [],
   "source": [
    "import sys\n",
    "\n",
    "sys.path.append('../src')\n",
    "import company\n",
    "import request"
   ]
  },
  {
   "cell_type": "code",
   "execution_count": 2,
   "id": "cbbd14dd-32f5-4a32-8181-40d043828394",
   "metadata": {},
   "outputs": [],
   "source": [
    "company_list = company.list_all()"
   ]
  },
  {
   "cell_type": "code",
   "execution_count": 3,
   "id": "fea1f5c9-6b6a-40a3-a588-80392653e28e",
   "metadata": {},
   "outputs": [
    {
     "data": {
      "text/html": [
       "<div>\n",
       "<style scoped>\n",
       "    .dataframe tbody tr th:only-of-type {\n",
       "        vertical-align: middle;\n",
       "    }\n",
       "\n",
       "    .dataframe tbody tr th {\n",
       "        vertical-align: top;\n",
       "    }\n",
       "\n",
       "    .dataframe thead th {\n",
       "        text-align: right;\n",
       "    }\n",
       "</style>\n",
       "<table border=\"1\" class=\"dataframe\">\n",
       "  <thead>\n",
       "    <tr style=\"text-align: right;\">\n",
       "      <th></th>\n",
       "      <th>idCompany</th>\n",
       "      <th>name</th>\n",
       "    </tr>\n",
       "  </thead>\n",
       "  <tbody>\n",
       "    <tr>\n",
       "      <th>0</th>\n",
       "      <td>22216fda-f0b0-4777-ad30-8450edf1bb9f</td>\n",
       "      <td>2i Rete Gas S.p.A.</td>\n",
       "    </tr>\n",
       "    <tr>\n",
       "      <th>1</th>\n",
       "      <td>66b6dd79-c3de-4614-a5b0-2bfdbeb39717</td>\n",
       "      <td>ADNOC</td>\n",
       "    </tr>\n",
       "    <tr>\n",
       "      <th>2</th>\n",
       "      <td>a3425f96-1c5c-4a5e-8d20-8bb07a3ccdb3</td>\n",
       "      <td>Adriatic LNG</td>\n",
       "    </tr>\n",
       "    <tr>\n",
       "      <th>3</th>\n",
       "      <td>9fcf651c-1e33-45e2-a21a-e5057a3e52a2</td>\n",
       "      <td>Adrigas SpA</td>\n",
       "    </tr>\n",
       "    <tr>\n",
       "      <th>4</th>\n",
       "      <td>1c616e8f-30ee-477d-b8e3-249556584b85</td>\n",
       "      <td>akerbp</td>\n",
       "    </tr>\n",
       "    <tr>\n",
       "      <th>...</th>\n",
       "      <td>...</td>\n",
       "      <td>...</td>\n",
       "    </tr>\n",
       "    <tr>\n",
       "      <th>113</th>\n",
       "      <td>4a641208-5914-487b-b1d2-1787e3cada6b</td>\n",
       "      <td>Wapiti Energy</td>\n",
       "    </tr>\n",
       "    <tr>\n",
       "      <th>114</th>\n",
       "      <td>fa4daf98-b9d3-4d44-858d-95aace35b63e</td>\n",
       "      <td>Westland Infra Netbeheer</td>\n",
       "    </tr>\n",
       "    <tr>\n",
       "      <th>115</th>\n",
       "      <td>a8211e62-8eff-11ee-b9d1-0242ac120002</td>\n",
       "      <td>Williams</td>\n",
       "    </tr>\n",
       "    <tr>\n",
       "      <th>116</th>\n",
       "      <td>492cfae1-e2d9-4a74-8e72-bbdb2280e040</td>\n",
       "      <td>Wintershall Dea AG</td>\n",
       "    </tr>\n",
       "    <tr>\n",
       "      <th>117</th>\n",
       "      <td>c13762ad-c40c-47d6-89bf-38efd4d19e76</td>\n",
       "      <td>XP</td>\n",
       "    </tr>\n",
       "  </tbody>\n",
       "</table>\n",
       "<p>118 rows × 2 columns</p>\n",
       "</div>"
      ],
      "text/plain": [
       "                                idCompany                      name\n",
       "0    22216fda-f0b0-4777-ad30-8450edf1bb9f        2i Rete Gas S.p.A.\n",
       "1    66b6dd79-c3de-4614-a5b0-2bfdbeb39717                    ADNOC \n",
       "2    a3425f96-1c5c-4a5e-8d20-8bb07a3ccdb3              Adriatic LNG\n",
       "3    9fcf651c-1e33-45e2-a21a-e5057a3e52a2               Adrigas SpA\n",
       "4    1c616e8f-30ee-477d-b8e3-249556584b85                    akerbp\n",
       "..                                    ...                       ...\n",
       "113  4a641208-5914-487b-b1d2-1787e3cada6b             Wapiti Energy\n",
       "114  fa4daf98-b9d3-4d44-858d-95aace35b63e  Westland Infra Netbeheer\n",
       "115  a8211e62-8eff-11ee-b9d1-0242ac120002                  Williams\n",
       "116  492cfae1-e2d9-4a74-8e72-bbdb2280e040        Wintershall Dea AG\n",
       "117  c13762ad-c40c-47d6-89bf-38efd4d19e76                        XP\n",
       "\n",
       "[118 rows x 2 columns]"
      ]
     },
     "execution_count": 3,
     "metadata": {},
     "output_type": "execute_result"
    }
   ],
   "source": [
    "company_list"
   ]
  },
  {
   "cell_type": "code",
   "execution_count": 4,
   "id": "358c4889-fb40-4f16-a166-0547db6513ba",
   "metadata": {},
   "outputs": [
    {
     "data": {
      "text/plain": [
       "'66b6dd79-c3de-4614-a5b0-2bfdbeb39717'"
      ]
     },
     "execution_count": 4,
     "metadata": {},
     "output_type": "execute_result"
    }
   ],
   "source": [
    "companyname = 'ADNOC'\n",
    "companyid = company.find_id(companyname)\n",
    "companyid"
   ]
  },
  {
   "cell_type": "code",
   "execution_count": 5,
   "id": "8ea2bd64-5ff5-4afa-88cd-7a32418b38a7",
   "metadata": {},
   "outputs": [
    {
     "data": {
      "text/plain": [
       "{'company': '66b6dd79-c3de-4614-a5b0-2bfdbeb39717',\n",
       " 'companyName': 'ADNOC ',\n",
       " 'year': 2024,\n",
       " 'target': {'value': 0.15,\n",
       "  'type': 'INTENSITY',\n",
       "  'units': '%',\n",
       "  'year': 2025,\n",
       "  'description': 'maximum amount of annual methane emissions by 2025 as a percentage of sales gas'},\n",
       " 'methaneEstimates': 0,\n",
       " 'methaneEstimateUnits': 'kt',\n",
       " 'dataQuality': {'level': []},\n",
       " 'dataQualityEquity': {'levelEquity': []},\n",
       " 'methaneEstimatesEquity': 0,\n",
       " 'goldstandard': {'standard': [{'year': 2022, 'goldStandard': 'Pathway'},\n",
       "   {'year': 2023, 'goldStandard': 'Pathway'},\n",
       "   {'year': 2024, 'goldStandard': 'Reporting'}]}}"
      ]
     },
     "execution_count": 5,
     "metadata": {},
     "output_type": "execute_result"
    }
   ],
   "source": [
    "company.get_info(companyid, 2024)"
   ]
  }
 ],
 "metadata": {
  "kernelspec": {
   "display_name": "Python 3 (ipykernel)",
   "language": "python",
   "name": "python3"
  },
  "language_info": {
   "codemirror_mode": {
    "name": "ipython",
    "version": 3
   },
   "file_extension": ".py",
   "mimetype": "text/x-python",
   "name": "python",
   "nbconvert_exporter": "python",
   "pygments_lexer": "ipython3",
   "version": "3.10.12"
  }
 },
 "nbformat": 4,
 "nbformat_minor": 5
}
