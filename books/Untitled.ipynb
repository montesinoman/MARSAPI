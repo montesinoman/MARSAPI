{
 "cells": [
  {
   "cell_type": "code",
   "execution_count": 1,
   "id": "3d8942ba-5870-4726-9558-dd0fe9980dda",
   "metadata": {},
   "outputs": [],
   "source": [
    "import sys\n",
    "sys.path.append('../src')\n",
    "import request"
   ]
  },
  {
   "cell_type": "code",
   "execution_count": 2,
   "id": "19ff5f0d-30d8-44c1-8793-0edf23434a54",
   "metadata": {},
   "outputs": [
    {
     "name": "stdout",
     "output_type": "stream",
     "text": [
      "CompletedProcess(args=['curl', 'https://methanedata.unep.org/api/healthcheck'], returncode=0, stdout='MethaneData public API', stderr='  % Total    % Received % Xferd  Average Speed   Time    Time     Time  Current\\n                                 Dload  Upload   Total   Spent    Left  Speed\\n\\n  0     0    0     0    0     0      0      0 --:--:-- --:--:-- --:--:--     0\\n  0     0    0     0    0     0      0      0 --:--:-- --:--:-- --:--:--     0\\n100    22  100    22    0     0     55      0 --:--:-- --:--:-- --:--:--    55\\n')\n"
     ]
    },
    {
     "data": {
      "text/plain": [
       "'MethaneData public API'"
      ]
     },
     "execution_count": 2,
     "metadata": {},
     "output_type": "execute_result"
    }
   ],
   "source": [
    "request._request(request.URLIB.HEALTH)"
   ]
  },
  {
   "cell_type": "code",
   "execution_count": 3,
   "id": "6717b62f-bf26-44b4-827a-f51901a0a412",
   "metadata": {},
   "outputs": [
    {
     "name": "stdout",
     "output_type": "stream",
     "text": [
      "CompletedProcess(args=['curl', 'https://methanedata.unep.org/api/healthcheck'], returncode=0, stdout='MethaneData public API', stderr='  % Total    % Received % Xferd  Average Speed   Time    Time     Time  Current\\n                                 Dload  Upload   Total   Spent    Left  Speed\\n\\n  0     0    0     0    0     0      0      0 --:--:-- --:--:-- --:--:--     0\\n100    22  100    22    0     0     53      0 --:--:-- --:--:-- --:--:--    53\\n')\n"
     ]
    },
    {
     "data": {
      "text/plain": [
       "True"
      ]
     },
     "execution_count": 3,
     "metadata": {},
     "output_type": "execute_result"
    }
   ],
   "source": [
    "request._healthcheck()"
   ]
  },
  {
   "cell_type": "code",
   "execution_count": null,
   "id": "929fc4a1-4e71-440c-8bb1-490c589058d3",
   "metadata": {},
   "outputs": [],
   "source": []
  }
 ],
 "metadata": {
  "kernelspec": {
   "display_name": "Python 3 (ipykernel)",
   "language": "python",
   "name": "python3"
  },
  "language_info": {
   "codemirror_mode": {
    "name": "ipython",
    "version": 3
   },
   "file_extension": ".py",
   "mimetype": "text/x-python",
   "name": "python",
   "nbconvert_exporter": "python",
   "pygments_lexer": "ipython3",
   "version": "3.10.12"
  }
 },
 "nbformat": 4,
 "nbformat_minor": 5
}
