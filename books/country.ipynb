{
 "cells": [
  {
   "cell_type": "code",
   "execution_count": 1,
   "id": "20ac02fe-6c0c-409d-ad57-8da0f762bfbb",
   "metadata": {},
   "outputs": [],
   "source": [
    "from marsapi import country"
   ]
  },
  {
   "cell_type": "code",
   "execution_count": 2,
   "id": "33b91030-2c05-440f-9499-005469d765f2",
   "metadata": {},
   "outputs": [
    {
     "ename": "AttributeError",
     "evalue": "module 'marsapi.request' has no attribute '_request'",
     "output_type": "error",
     "traceback": [
      "\u001b[0;31m---------------------------------------------------------------------------\u001b[0m",
      "\u001b[0;31mAttributeError\u001b[0m                            Traceback (most recent call last)",
      "Cell \u001b[0;32mIn[2], line 1\u001b[0m\n\u001b[0;32m----> 1\u001b[0m \u001b[43mcountry\u001b[49m\u001b[38;5;241;43m.\u001b[39;49m\u001b[43mlist_all\u001b[49m\u001b[43m(\u001b[49m\u001b[43m)\u001b[49m\n",
      "File \u001b[0;32m~/GIT/MARSAPI/marsapi/country/country.py:21\u001b[0m, in \u001b[0;36mlist_all\u001b[0;34m()\u001b[0m\n\u001b[1;32m     17\u001b[0m \u001b[38;5;250m\u001b[39m\u001b[38;5;124;03m''' Lists all the countries\u001b[39;00m\n\u001b[1;32m     18\u001b[0m \u001b[38;5;124;03m:returns: DataFrame. Country code and name.\u001b[39;00m\n\u001b[1;32m     19\u001b[0m \u001b[38;5;124;03m'''\u001b[39;00m\n\u001b[1;32m     20\u001b[0m \u001b[38;5;66;03m# Get the list\u001b[39;00m\n\u001b[0;32m---> 21\u001b[0m countries \u001b[38;5;241m=\u001b[39m \u001b[43mrequest\u001b[49m\u001b[38;5;241;43m.\u001b[39;49m\u001b[43m_request\u001b[49m(request\u001b[38;5;241m.\u001b[39mURLIB\u001b[38;5;241m.\u001b[39mCOUNTRIES)\n\u001b[1;32m     22\u001b[0m \u001b[38;5;66;03m# Companies as data frame\u001b[39;00m\n\u001b[1;32m     23\u001b[0m countries \u001b[38;5;241m=\u001b[39m request\u001b[38;5;241m.\u001b[39m_json_response_to_df(countries)\n",
      "\u001b[0;31mAttributeError\u001b[0m: module 'marsapi.request' has no attribute '_request'"
     ]
    }
   ],
   "source": [
    "country.list_all()"
   ]
  },
  {
   "cell_type": "code",
   "execution_count": 3,
   "id": "5d944e15-b49d-454a-ace2-5d1e7d21c19b",
   "metadata": {},
   "outputs": [
    {
     "ename": "AttributeError",
     "evalue": "module 'marsapi.request' has no attribute '_request'",
     "output_type": "error",
     "traceback": [
      "\u001b[0;31m---------------------------------------------------------------------------\u001b[0m",
      "\u001b[0;31mAttributeError\u001b[0m                            Traceback (most recent call last)",
      "Cell \u001b[0;32mIn[3], line 1\u001b[0m\n\u001b[0;32m----> 1\u001b[0m \u001b[43mcountry\u001b[49m\u001b[38;5;241;43m.\u001b[39;49m\u001b[43mfind_id\u001b[49m\u001b[43m(\u001b[49m\u001b[38;5;124;43m'\u001b[39;49m\u001b[38;5;124;43mTurkmenistan\u001b[39;49m\u001b[38;5;124;43m'\u001b[39;49m\u001b[43m)\u001b[49m\n",
      "File \u001b[0;32m~/GIT/MARSAPI/marsapi/country/country.py:32\u001b[0m, in \u001b[0;36mfind_id\u001b[0;34m(countryname)\u001b[0m\n\u001b[1;32m     28\u001b[0m \u001b[38;5;250m\u001b[39m\u001b[38;5;124;03m''' Tries to find the country ID\u001b[39;00m\n\u001b[1;32m     29\u001b[0m \u001b[38;5;124;03m:param countryname: str. Country code.\u001b[39;00m\n\u001b[1;32m     30\u001b[0m \u001b[38;5;124;03m'''\u001b[39;00m\n\u001b[1;32m     31\u001b[0m \u001b[38;5;66;03m# List all companies\u001b[39;00m\n\u001b[0;32m---> 32\u001b[0m all_countries \u001b[38;5;241m=\u001b[39m \u001b[43mlist_all\u001b[49m\u001b[43m(\u001b[49m\u001b[43m)\u001b[49m\n\u001b[1;32m     33\u001b[0m \u001b[38;5;66;03m# Find the company name\u001b[39;00m\n\u001b[1;32m     34\u001b[0m this_country \u001b[38;5;241m=\u001b[39m all_countries[\n\u001b[1;32m     35\u001b[0m     all_countries[\u001b[38;5;124m'\u001b[39m\u001b[38;5;124mname\u001b[39m\u001b[38;5;124m'\u001b[39m]\u001b[38;5;241m.\u001b[39mstr\u001b[38;5;241m.\u001b[39mcontains(countryname,\n\u001b[1;32m     36\u001b[0m                                        case\u001b[38;5;241m=\u001b[39m\u001b[38;5;28;01mFalse\u001b[39;00m,\n\u001b[1;32m     37\u001b[0m                                        na\u001b[38;5;241m=\u001b[39m\u001b[38;5;28;01mFalse\u001b[39;00m)]\n",
      "File \u001b[0;32m~/GIT/MARSAPI/marsapi/country/country.py:21\u001b[0m, in \u001b[0;36mlist_all\u001b[0;34m()\u001b[0m\n\u001b[1;32m     17\u001b[0m \u001b[38;5;250m\u001b[39m\u001b[38;5;124;03m''' Lists all the countries\u001b[39;00m\n\u001b[1;32m     18\u001b[0m \u001b[38;5;124;03m:returns: DataFrame. Country code and name.\u001b[39;00m\n\u001b[1;32m     19\u001b[0m \u001b[38;5;124;03m'''\u001b[39;00m\n\u001b[1;32m     20\u001b[0m \u001b[38;5;66;03m# Get the list\u001b[39;00m\n\u001b[0;32m---> 21\u001b[0m countries \u001b[38;5;241m=\u001b[39m \u001b[43mrequest\u001b[49m\u001b[38;5;241;43m.\u001b[39;49m\u001b[43m_request\u001b[49m(request\u001b[38;5;241m.\u001b[39mURLIB\u001b[38;5;241m.\u001b[39mCOUNTRIES)\n\u001b[1;32m     22\u001b[0m \u001b[38;5;66;03m# Companies as data frame\u001b[39;00m\n\u001b[1;32m     23\u001b[0m countries \u001b[38;5;241m=\u001b[39m request\u001b[38;5;241m.\u001b[39m_json_response_to_df(countries)\n",
      "\u001b[0;31mAttributeError\u001b[0m: module 'marsapi.request' has no attribute '_request'"
     ]
    }
   ],
   "source": [
    "country.find_id('Turkmenistan')"
   ]
  },
  {
   "cell_type": "code",
   "execution_count": 4,
   "id": "2acf0563-9311-4ee4-82fd-75c399046b29",
   "metadata": {},
   "outputs": [
    {
     "ename": "AttributeError",
     "evalue": "module 'marsapi.request' has no attribute 'URLIB'",
     "output_type": "error",
     "traceback": [
      "\u001b[0;31m---------------------------------------------------------------------------\u001b[0m",
      "\u001b[0;31mAttributeError\u001b[0m                            Traceback (most recent call last)",
      "Cell \u001b[0;32mIn[4], line 1\u001b[0m\n\u001b[0;32m----> 1\u001b[0m \u001b[43mcountry\u001b[49m\u001b[38;5;241;43m.\u001b[39;49m\u001b[43mget_stats\u001b[49m\u001b[43m(\u001b[49m\u001b[38;5;124;43m'\u001b[39;49m\u001b[38;5;124;43mTurkmenistan\u001b[39;49m\u001b[38;5;124;43m'\u001b[39;49m\u001b[43m)\u001b[49m\n",
      "File \u001b[0;32m~/GIT/MARSAPI/marsapi/country/country.py:48\u001b[0m, in \u001b[0;36mget_stats\u001b[0;34m(country)\u001b[0m\n\u001b[1;32m     42\u001b[0m \u001b[38;5;250m\u001b[39m\u001b[38;5;124;03m''' Get IMEO/MARS statistics of a country for a given year\u001b[39;00m\n\u001b[1;32m     43\u001b[0m \u001b[38;5;124;03m:param companyid: str. IMEO country ID.\u001b[39;00m\n\u001b[1;32m     44\u001b[0m \u001b[38;5;124;03m:param year: int. Year of the stats.\u001b[39;00m\n\u001b[1;32m     45\u001b[0m \u001b[38;5;124;03m:returns: dict. IMEO/MARS statistics\u001b[39;00m\n\u001b[1;32m     46\u001b[0m \u001b[38;5;124;03m'''\u001b[39;00m\n\u001b[1;32m     47\u001b[0m \u001b[38;5;66;03m# Build URL\u001b[39;00m\n\u001b[0;32m---> 48\u001b[0m this_url \u001b[38;5;241m=\u001b[39m \u001b[43mrequest\u001b[49m\u001b[38;5;241;43m.\u001b[39;49m\u001b[43mURLIB\u001b[49m\u001b[38;5;241m.\u001b[39mCOUNTRYSTATS \u001b[38;5;241m%\u001b[39m (country)\n\u001b[1;32m     49\u001b[0m \u001b[38;5;66;03m# Request the information\u001b[39;00m\n\u001b[1;32m     50\u001b[0m country_stats \u001b[38;5;241m=\u001b[39m request\u001b[38;5;241m.\u001b[39m_request(this_url)\n",
      "\u001b[0;31mAttributeError\u001b[0m: module 'marsapi.request' has no attribute 'URLIB'"
     ]
    }
   ],
   "source": [
    "country.get_stats('Turkmenistan')"
   ]
  },
  {
   "cell_type": "code",
   "execution_count": 5,
   "id": "17c0644e-6cac-4804-aec7-2f5e96f04aa5",
   "metadata": {},
   "outputs": [
    {
     "ename": "AttributeError",
     "evalue": "module 'marsapi.request' has no attribute 'URLIB'",
     "output_type": "error",
     "traceback": [
      "\u001b[0;31m---------------------------------------------------------------------------\u001b[0m",
      "\u001b[0;31mAttributeError\u001b[0m                            Traceback (most recent call last)",
      "Cell \u001b[0;32mIn[5], line 1\u001b[0m\n\u001b[0;32m----> 1\u001b[0m \u001b[43mcountry\u001b[49m\u001b[38;5;241;43m.\u001b[39;49m\u001b[43mget_info\u001b[49m\u001b[43m(\u001b[49m\u001b[38;5;124;43m'\u001b[39;49m\u001b[38;5;124;43mTKM\u001b[39;49m\u001b[38;5;124;43m'\u001b[39;49m\u001b[43m,\u001b[49m\u001b[43m \u001b[49m\u001b[38;5;241;43m2024\u001b[39;49m\u001b[43m)\u001b[49m\n",
      "File \u001b[0;32m~/GIT/MARSAPI/marsapi/country/country.py:63\u001b[0m, in \u001b[0;36mget_info\u001b[0;34m(countryid, year)\u001b[0m\n\u001b[1;32m     57\u001b[0m \u001b[38;5;250m\u001b[39m\u001b[38;5;124;03m''' Get information of a country for a given year\u001b[39;00m\n\u001b[1;32m     58\u001b[0m \u001b[38;5;124;03m:param countryid: str. IMEO country code.\u001b[39;00m\n\u001b[1;32m     59\u001b[0m \u001b[38;5;124;03m:param year: int. Information on that year.\u001b[39;00m\n\u001b[1;32m     60\u001b[0m \u001b[38;5;124;03m:returns:\u001b[39;00m\n\u001b[1;32m     61\u001b[0m \u001b[38;5;124;03m'''\u001b[39;00m\n\u001b[1;32m     62\u001b[0m \u001b[38;5;66;03m# Build URL\u001b[39;00m\n\u001b[0;32m---> 63\u001b[0m this_url \u001b[38;5;241m=\u001b[39m \u001b[43mrequest\u001b[49m\u001b[38;5;241;43m.\u001b[39;49m\u001b[43mURLIB\u001b[49m\u001b[38;5;241m.\u001b[39mCOUNTRYFACTS \u001b[38;5;241m%\u001b[39m (countryid, \u001b[38;5;28mstr\u001b[39m(year))\n\u001b[1;32m     64\u001b[0m \u001b[38;5;66;03m# Request the information\u001b[39;00m\n\u001b[1;32m     65\u001b[0m country_facts \u001b[38;5;241m=\u001b[39m request\u001b[38;5;241m.\u001b[39m_request(this_url)\n",
      "\u001b[0;31mAttributeError\u001b[0m: module 'marsapi.request' has no attribute 'URLIB'"
     ]
    }
   ],
   "source": [
    "country.get_info('TKM', 2024)"
   ]
  },
  {
   "cell_type": "code",
   "execution_count": null,
   "id": "7e0706fb-1fce-4fb3-95f1-9ff3edff1a3a",
   "metadata": {},
   "outputs": [],
   "source": []
  }
 ],
 "metadata": {
  "kernelspec": {
   "display_name": "Python 3 (ipykernel)",
   "language": "python",
   "name": "python3"
  },
  "language_info": {
   "codemirror_mode": {
    "name": "ipython",
    "version": 3
   },
   "file_extension": ".py",
   "mimetype": "text/x-python",
   "name": "python",
   "nbconvert_exporter": "python",
   "pygments_lexer": "ipython3",
   "version": "3.10.12"
  }
 },
 "nbformat": 4,
 "nbformat_minor": 5
}
